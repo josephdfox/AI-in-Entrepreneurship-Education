{
 "cells": [
  {
   "cell_type": "markdown",
   "id": "dd499d85-5eef-438d-8866-6ced0ff3d04a",
   "metadata": {},
   "source": [
    "# AI + Entrepreneurship Education Cookbook - Prompts"
   ]
  },
  {
   "cell_type": "markdown",
   "id": "e3e004fb-7d8e-4f0a-acea-3ebc090f43b0",
   "metadata": {},
   "source": [
    "This workbook serves as a series of examples which entrepreneurship educators can consider as they are looking to augment or simulate different situated aspects of entrepreneurship. This cookbook will be updated and will serve as a guideline to assist instructors in how to see AI as a copilot in the classroom. Note that we primarily use Python and a series of required libraries to interface with various APIs and process data. We also strive to use models that other instructors and researchers could access - you could easily use some of the prompts below with a tool like ChatGPT. (Also, one can simulate the dialogue fine-tuning by using other OpenAI products or libraries like LangChain)."
   ]
  },
  {
   "cell_type": "markdown",
   "id": "203f35b9-a693-4554-9014-76c8e1f64e37",
   "metadata": {},
   "source": [
    "## 1. Ideation Prompts"
   ]
  },
  {
   "cell_type": "markdown",
   "id": "a9644761-1cdb-462b-b14b-273b86ec9bd1",
   "metadata": {},
   "source": [
    "Key variables to consider:\n",
    "- industry\n",
    "- customer segment\n",
    "- goals (i.e. revenue)\n",
    "- time (weekends, per week, 6 month temporary opportunity)\n",
    "- problem to solve\n",
    "- Job-to-be-done\n",
    "\n",
    "**Sample Prompts:**\n",
    "- Write a list of 5 new venture ideas.\n",
    "- Write a list of 5 new venture ideas for the pet sitting industry.\n",
    "- Write a list of 5 new venture ideas a college student in rural Idaho could start with 200 that could generate 1000 in six months.\n",
    "- *this is a 2 part prompt* Write about a problem that Bob, a middle-aged man from Kentucky, is having trying to keep his inventory organized at his auto parts store. *follow up prompt* What are 5 new venture ideas that can be pursued based on solving Bob's problem?\n"
   ]
  },
  {
   "cell_type": "markdown",
   "id": "8dd0c3f5-1d4b-4a60-ba3d-70a3742a0223",
   "metadata": {
    "jp-MarkdownHeadingCollapsed": true,
    "tags": []
   },
   "source": [
    "## 2. Marketing Prompts\n",
    "- Write a list of 5 marketing tactics a new commercial cleaning company could effectively use to get its first 10 customers.\n",
    "- Write 3 sample tweets with a call to action talking about commercial cleaning services in cleveland ohio.\n",
    "- Describe the difference in tone a business on social media should use when talking with different target audiences.\n",
    "- Write an email to be used in an email marketing campaign about an upcoming Christmas sale for an Amazon FBA company that specializes in shoes.\n",
   ]
  },
  {
   "cell_type": "markdown",
   "id": "e1f04352-5cc8-4974-8036-35a51fee3991",
   "metadata": {},
   "source": [
    "## 3. Situational and Case Prompts"
   ]
  },
  {
   "cell_type": "markdown",
   "id": "7433da44",
   "metadata": {},
   "source": [
    " - Write a brief case about an entrepreneur in the fast casual food industry experiencing a problem with staffing. Include 2 questions at the end of the case."
   ]
  },
  {
   "cell_type": "markdown",
   "id": "77815bde-c7f6-4fab-bbb6-243ba0dbaabe",
   "metadata": {},
   "source": [
    "## 4. Customer Interview Prompts"
   ]
  },
  {
   "cell_type": "markdown",
   "id": "13bbed88",
   "metadata": {},
   "source": [
    "*coming soon"
   ]
  },
  {
   "cell_type": "markdown",
   "id": "e9cb0d1c-32e4-4c51-a05f-c251b9cb24c2",
   "metadata": {},
   "source": [
    "## 5. Business Planning Prompts"
   ]
  },
  {
   "cell_type": "markdown",
   "id": "bee1fdf2",
   "metadata": {},
   "source": [
    "- Write the outline for a business plan about pet sitting.\n",
    "- Write a paragraph to describe the marketing strategy part of a business plan about pet sitting.\n",
    "- Write a paragraph for the market size part of a business plan and include a table with estimates for the next 5 years in the pet sitting industry.\n",
    "- Write a paragraph for the market size part of a business plan and include the python code to generate a graph with estimates of the market size for the next 5 years in the pet sitting industry. "
   ]
  },
  {
   "cell_type": "markdown",
   "id": "41c9b3cc-2572-40fd-a452-e4ae801c66de",
   "metadata": {},
   "source": [
    "If you are using the cookbook, please cite Fox, Joseph D. (2023), AI in Entrepreneurship Education Cookbook."
   ]
  }
 ],
 "metadata": {
  "kernelspec": {
   "display_name": "Python 3 (ipykernel)",
   "language": "python",
   "name": "python3"
  },
  "language_info": {
   "codemirror_mode": {
    "name": "ipython",
    "version": 3
   },
   "file_extension": ".py",
   "mimetype": "text/x-python",
   "name": "python",
   "nbconvert_exporter": "python",
   "pygments_lexer": "ipython3",
   "version": "3.11.1"
  }
 },
 "nbformat": 4,
 "nbformat_minor": 5
}
